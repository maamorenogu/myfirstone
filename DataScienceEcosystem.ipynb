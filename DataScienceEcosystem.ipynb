{
 "cells": [
  {
   "cell_type": "markdown",
   "id": "b39931a4",
   "metadata": {},
   "source": [
    "# Data Science Tools and Ecosystem"
   ]
  },
  {
   "cell_type": "markdown",
   "id": "182eaa81",
   "metadata": {},
   "source": [
    "In this notebook, Data Science Tools and Ecosystem are summarized."
   ]
  },
  {
   "cell_type": "markdown",
   "id": "68d90568",
   "metadata": {},
   "source": [
    "**Objectives:**\n",
    "\n",
    "- List popular languages for Data Science.\n",
    "- List how to work with Github.\n",
    "- Introduction to R and RStudio.\n",
    "- Learn cloud based tools for Data Science"
   ]
  },
  {
   "cell_type": "code",
   "execution_count": null,
   "id": "bfc8fb25",
   "metadata": {},
   "outputs": [],
   "source": [
    "Some of the popular languages that Data Scientists use are:"
   ]
  },
  {
   "cell_type": "markdown",
   "id": "5f7c440d",
   "metadata": {},
   "source": [
    "1. Python\n",
    "2. R\n",
    "3. SQL\n"
   ]
  },
  {
   "cell_type": "markdown",
   "id": "186e5f4a",
   "metadata": {},
   "source": [
    "Some of the commonly used libraries used by Data Scientists include:"
   ]
  },
  {
   "cell_type": "markdown",
   "id": "f97a9f0c",
   "metadata": {},
   "source": [
    "1. Pandas\n",
    "2. Numpy \n",
    "3. caret\n",
    "4. ggplot2\n"
   ]
  },
  {
   "cell_type": "markdown",
   "id": "a0788a4c",
   "metadata": {},
   "source": [
    "| Data Science Tools |\n",
    "|--------------------|\n",
    "| Jupyter Notebook   |\n",
    "| RStudio            |\n",
    "| Apache Zeppelin    |\n"
   ]
  },
  {
   "cell_type": "markdown",
   "id": "f5ffcdd0",
   "metadata": {},
   "source": [
    "Below are a few examples of evaluating arithmetic expressions in Python:\n",
    "1. Addition\n",
    "2. Substraction\n",
    "3. Multiplication\n",
    "4. Division\n"
   ]
  },
  {
   "cell_type": "markdown",
   "id": "2e449d58",
   "metadata": {},
   "source": [
    "This a simple arithmetic expression to mutiply then add integers:"
   ]
  },
  {
   "cell_type": "code",
   "execution_count": 7,
   "id": "be00e7c4",
   "metadata": {},
   "outputs": [
    {
     "data": {
      "text/plain": [
       "17"
      ]
     },
     "execution_count": 7,
     "metadata": {},
     "output_type": "execute_result"
    }
   ],
   "source": [
    "#This is a simple arithmetic expression to multiply then add integers:\n",
    "(3*4)+5\n"
   ]
  },
  {
   "cell_type": "code",
   "execution_count": 8,
   "id": "7ce6ad7a",
   "metadata": {},
   "outputs": [
    {
     "data": {
      "text/plain": [
       "3.3333333333333335"
      ]
     },
     "execution_count": 8,
     "metadata": {},
     "output_type": "execute_result"
    }
   ],
   "source": [
    "#This will convert 200 minutes to hours by diving by 60\n",
    "200/60"
   ]
  },
  {
   "cell_type": "markdown",
   "id": "3a6e0052",
   "metadata": {},
   "source": [
    "## Author\n",
    "Maira Moreno\n"
   ]
  },
  {
   "cell_type": "code",
   "execution_count": null,
   "id": "426cbc57",
   "metadata": {},
   "outputs": [],
   "source": []
  }
 ],
 "metadata": {
  "kernelspec": {
   "display_name": "Python 3 (ipykernel)",
   "language": "python",
   "name": "python3"
  },
  "language_info": {
   "codemirror_mode": {
    "name": "ipython",
    "version": 3
   },
   "file_extension": ".py",
   "mimetype": "text/x-python",
   "name": "python",
   "nbconvert_exporter": "python",
   "pygments_lexer": "ipython3",
   "version": "3.11.3"
  }
 },
 "nbformat": 4,
 "nbformat_minor": 5
}
